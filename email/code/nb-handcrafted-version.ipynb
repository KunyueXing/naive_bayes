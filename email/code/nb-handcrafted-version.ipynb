{
 "cells": [
  {
   "cell_type": "markdown",
   "metadata": {
    "_uuid": "9a78549649effa1858818cefd9f614338590f14c"
   },
   "source": [
    "# 垃圾邮件分类\n",
    "https://www.kaggle.com/uciml/sms-spam-collection-dataset"
   ]
  },
  {
   "cell_type": "markdown",
   "metadata": {
    "_cell_guid": "d6b1ab40-34da-4645-98c4-4b61c97895f6",
    "_uuid": "0259bd59e4fad41ffd78aa5a510a83ef07daab7f",
    "collapsed": true
   },
   "source": [
    "拿到数据首先读入拿到数据"
   ]
  },
  {
   "cell_type": "code",
   "execution_count": null,
   "metadata": {
    "_cell_guid": "a89760f4-9075-42be-b4c4-c8c87d175c88",
    "_uuid": "4429a082ddabcb23261daec29ee1ae9e68ba2a2e",
    "collapsed": true
   },
   "outputs": [],
   "source": [
    "from sklearn.feature_extraction.text import CountVectorizer\n",
    "from sklearn.model_selection import train_test_split\n",
    "import pandas as pd\n",
    "import numpy as np\n",
    "\n",
    "data_dir = \"../input/\"\n",
    "\n",
    "df = pd.read_csv(data_dir + '/spam.csv', encoding='latin-1')\n",
    "print ('看看数据长什么样子')\n",
    "print (df.head())\n",
    "\n",
    "# split into train and test\n",
    "data_train, data_test, labels_train, labels_test = train_test_split(\n",
    "    df.v2,\n",
    "    df.v1, \n",
    "    test_size=0.2, \n",
    "    random_state=0)  # 加一句注释\n",
    "\n",
    "print ('拆分过后的每个邮件内容')\n",
    "print (data_train[:10])  # 为什么加括号， 为什么没有完整输出结果\n",
    "print ('拆分过后每个邮件是否是垃圾邮件')\n",
    "print (labels_train[:10])"
   ]
  },
  {
   "cell_type": "markdown",
   "metadata": {
    "_uuid": "8d7250a2a135c1e13ccfc00f6848176ecee31ff8"
   },
   "source": [
    "统计总共单词个数"
   ]
  },
  {
   "cell_type": "code",
   "execution_count": null,
   "metadata": {
    "_uuid": "f7954ab7449b37d9d68880e7e56ab6f35630a8a9",
    "collapsed": true
   },
   "outputs": [],
   "source": [
    "\n",
    "def GetVocabulary(data): \n",
    "    vocab_set = set([])\n",
    "    for document in data:\n",
    "        words = document.split()\n",
    "        for word in words:\n",
    "            vocab_set.add(word) \n",
    "    return list(vocab_set)\n",
    "\n",
    "vocab_list = GetVocabulary(data_train)\n",
    "print ('Number of all the unique words : ' + str(len(vocab_list)))\n",
    "\n"
   ]
  },
  {
   "cell_type": "markdown",
   "metadata": {
    "_uuid": "8bb58cf7bf7b6e8fe37e89d4fc6a4edba21dc62d"
   },
   "source": [
    "把文章变成词向量\n"
   ]
  },
  {
   "cell_type": "code",
   "execution_count": null,
   "metadata": {
    "_uuid": "db14dd202a4cb2bab6306d14e3acd2cb151f1260",
    "collapsed": true
   },
   "outputs": [],
   "source": [
    "\n",
    "def Document2Vector(vocab_list, data):\n",
    "    word_vector = np.zeros(len(vocab_list))\n",
    "    words = data.split()\n",
    "    for word in words:\n",
    "        if word in vocab_list:\n",
    "            word_vector[vocab_list.index(word)] += 1\n",
    "    return word_vector\n",
    "\n",
    "print (data_train[1:2,])\n",
    "ans = Document2Vector(vocab_list,\"the the the\")\n",
    "print (data_train.values[2])\n"
   ]
  },
  {
   "cell_type": "code",
   "execution_count": null,
   "metadata": {
    "_uuid": "f8e259bb2ef260294478c4ec7929cdd10b68d84a",
    "collapsed": true
   },
   "outputs": [],
   "source": [
    "train_matrix = []\n",
    "for document in data_train.values:\n",
    "    word_vector = Document2Vector(vocab_list, document)\n",
    "    train_matrix.append(word_vector)\n",
    "\n",
    "print (len(train_matrix))"
   ]
  },
  {
   "cell_type": "markdown",
   "metadata": {
    "_uuid": "b55b0ce4caf250c26efb4f543d257744ef8c1985"
   },
   "source": [
    "做naive bayes 训练，得到训练集每个词概率"
   ]
  },
  {
   "cell_type": "code",
   "execution_count": null,
   "metadata": {
    "_uuid": "024ad891e7df647a1415d9106e42cf8951f91f6a",
    "collapsed": true
   },
   "outputs": [],
   "source": [
    "\n",
    "def NaiveBayes_train(train_matrix,labels_train):\n",
    "    num_docs = len(train_matrix)\n",
    "    num_words = len(train_matrix[0])\n",
    "    \n",
    "    spam_vector_count = np.ones(num_words);\n",
    "    ham_vector_count = np.ones(num_words)  #计算频数初始化为1\n",
    "    spam_total_count = num_words;\n",
    "    ham_total_count = num_words                  #即拉普拉斯平滑\n",
    "    \n",
    "    spam_count = 0\n",
    "    ham_count = 0\n",
    "    for i in range(num_docs):\n",
    "        if i % 500 == 0:\n",
    "            print ('Train on the doc id:' + str(i))\n",
    "            \n",
    "        if labels_train[i] == 'spam':\n",
    "            ham_vector_count += train_matrix[i]\n",
    "            ham_total_count += sum(train_matrix[i])\n",
    "            ham_count += 1\n",
    "        else:\n",
    "            spam_vector_count += train_matrix[i]\n",
    "            spam_total_count += sum(train_matrix[i])\n",
    "            spam_count += 1\n",
    "    \n",
    "    print (ham_count)\n",
    "    print (spam_count)\n",
    "    \n",
    "    p_spam_vector = np.log(ham_vector_count/ham_total_count)#注意\n",
    "    p_ham_vector = np.log(spam_vector_count/spam_total_count)#注意\n",
    "    return p_spam_vector, np.log(spam_count/num_docs), p_ham_vector, np.log(ham_count/num_docs)\n",
    "    #返回各类对应特征的条件概率向量\n",
    "    #和各类的先验概率\n",
    "    \n",
    "p_spam_vector, p_spam, p_ham_vector, p_ham = NaiveBayes_train(train_matrix, labels_train.values)"
   ]
  },
  {
   "cell_type": "code",
   "execution_count": null,
   "metadata": {
    "_uuid": "3b52965071774f5a7c961c0dfbf02cb879c94e96",
    "collapsed": true
   },
   "outputs": [],
   "source": [
    "data_test.values.shape"
   ]
  },
  {
   "cell_type": "code",
   "execution_count": null,
   "metadata": {
    "_cell_guid": "e4415b37-0855-49bd-8926-afe63c668268",
    "_uuid": "1d737630d3f2df2b3d28355f57cabbf594c2bf23",
    "collapsed": true
   },
   "outputs": [],
   "source": [
    "\n",
    "    \n",
    "def Predict(test_word_vector,p_spam_vector, p_spam, p_ham_vector, p_ham):\n",
    "    \n",
    "    spam = sum(test_word_vector * p_spam_vector) + p_spam\n",
    "    ham = sum(test_word_vector * p_ham_vector) + p_ham\n",
    "    if spam > ham:\n",
    "        return 'spam'\n",
    "    else:\n",
    "        return 'ham'\n",
    "\n",
    "predictions = []\n",
    "i = 0\n",
    "for document in data_test.values:\n",
    "    if i % 200 == 0:\n",
    "        print ('Test on the doc id:' + str(i))\n",
    "    i += 1    \n",
    "    test_word_vector = Document2Vector(vocab_list, document)\n",
    "    ans = Predict(test_word_vector, p_spam_vector, p_spam, p_ham_vector, p_ham)\n",
    "    predictions.append(ans)\n",
    "\n",
    "print (len(predictions))"
   ]
  },
  {
   "cell_type": "code",
   "execution_count": null,
   "metadata": {
    "_uuid": "231f268550db0c2515b227e89d8f3510ce1d26c5",
    "collapsed": true
   },
   "outputs": [],
   "source": [
    "# 检测模型\n",
    "\n",
    "from sklearn.metrics import accuracy_score,classification_report,confusion_matrix\n",
    "from sklearn.model_selection import cross_val_score\n",
    "\n",
    "\n",
    "print (accuracy_score(labels_test, predictions))\n",
    "print (classification_report(labels_test, predictions))\n",
    "print (confusion_matrix(labels_test, predictions))\n"
   ]
  }
 ],
 "metadata": {
  "kernelspec": {
   "display_name": "Python 3",
   "language": "python",
   "name": "python3"
  },
  "language_info": {
   "codemirror_mode": {
    "name": "ipython",
    "version": 3
   },
   "file_extension": ".py",
   "mimetype": "text/x-python",
   "name": "python",
   "nbconvert_exporter": "python",
   "pygments_lexer": "ipython3",
   "version": "3.5.5"
  }
 },
 "nbformat": 4,
 "nbformat_minor": 1
}
